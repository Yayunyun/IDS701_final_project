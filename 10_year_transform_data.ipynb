{
 "cells": [
  {
   "cell_type": "code",
   "execution_count": 1,
   "metadata": {},
   "outputs": [],
   "source": [
    "import numpy as np\n",
    "import pandas as pd"
   ]
  },
  {
   "cell_type": "code",
   "execution_count": 2,
   "metadata": {},
   "outputs": [],
   "source": [
    "df = pd.read_csv('merged_price_patent.csv', index_col= False)\n",
    "df_all = pd.read_csv('drug_data.csv', index_col = False)"
   ]
  },
  {
   "cell_type": "code",
   "execution_count": 8,
   "metadata": {},
   "outputs": [
    {
     "data": {
      "text/html": [
       "<div>\n",
       "<style scoped>\n",
       "    .dataframe tbody tr th:only-of-type {\n",
       "        vertical-align: middle;\n",
       "    }\n",
       "\n",
       "    .dataframe tbody tr th {\n",
       "        vertical-align: top;\n",
       "    }\n",
       "\n",
       "    .dataframe thead th {\n",
       "        text-align: right;\n",
       "    }\n",
       "</style>\n",
       "<table border=\"1\" class=\"dataframe\">\n",
       "  <thead>\n",
       "    <tr style=\"text-align: right;\">\n",
       "      <th></th>\n",
       "      <th>Unnamed: 0</th>\n",
       "      <th>Brnd_Name</th>\n",
       "      <th>Gnrc_Name</th>\n",
       "      <th>Tot_Mftr</th>\n",
       "      <th>Mftr_Name</th>\n",
       "      <th>Tot_Spndng_2017</th>\n",
       "      <th>Tot_Dsg_Unts_2017</th>\n",
       "      <th>Tot_Clms_2017</th>\n",
       "      <th>Tot_Benes_2017</th>\n",
       "      <th>Avg_Spnd_Per_Dsg_Unt_Wghtd_2017</th>\n",
       "      <th>...</th>\n",
       "      <th>Tot_Spndng_2021</th>\n",
       "      <th>Tot_Dsg_Unts_2021</th>\n",
       "      <th>Tot_Clms_2021</th>\n",
       "      <th>Tot_Benes_2021</th>\n",
       "      <th>Avg_Spnd_Per_Dsg_Unt_Wghtd_2021</th>\n",
       "      <th>Avg_Spnd_Per_Clm_2021</th>\n",
       "      <th>Avg_Spnd_Per_Bene_2021</th>\n",
       "      <th>Outlier_Flag_2021</th>\n",
       "      <th>Chg_Avg_Spnd_Per_Dsg_Unt_20_21</th>\n",
       "      <th>CAGR_Avg_Spnd_Per_Dsg_Unt_17_21</th>\n",
       "    </tr>\n",
       "  </thead>\n",
       "  <tbody>\n",
       "    <tr>\n",
       "      <th>0</th>\n",
       "      <td>0</td>\n",
       "      <td>1ST TIER UNIFINE PENTIPS</td>\n",
       "      <td>Pen Needle, Diabetic</td>\n",
       "      <td>1</td>\n",
       "      <td>Owen Mumford Us</td>\n",
       "      <td>217938.04</td>\n",
       "      <td>1014318.0</td>\n",
       "      <td>8595.0</td>\n",
       "      <td>3025.0</td>\n",
       "      <td>0.216105</td>\n",
       "      <td>...</td>\n",
       "      <td>102280.76</td>\n",
       "      <td>459384.0</td>\n",
       "      <td>3708</td>\n",
       "      <td>1313.0</td>\n",
       "      <td>0.223001</td>\n",
       "      <td>27.583808</td>\n",
       "      <td>77.898522</td>\n",
       "      <td>0</td>\n",
       "      <td>0.024346</td>\n",
       "      <td>0.007885</td>\n",
       "    </tr>\n",
       "  </tbody>\n",
       "</table>\n",
       "<p>1 rows × 47 columns</p>\n",
       "</div>"
      ],
      "text/plain": [
       "   Unnamed: 0                 Brnd_Name             Gnrc_Name  Tot_Mftr  \\\n",
       "0           0  1ST TIER UNIFINE PENTIPS  Pen Needle, Diabetic         1   \n",
       "\n",
       "         Mftr_Name  Tot_Spndng_2017  Tot_Dsg_Unts_2017  Tot_Clms_2017  \\\n",
       "0  Owen Mumford Us        217938.04          1014318.0         8595.0   \n",
       "\n",
       "   Tot_Benes_2017  Avg_Spnd_Per_Dsg_Unt_Wghtd_2017  ...  Tot_Spndng_2021  \\\n",
       "0          3025.0                         0.216105  ...        102280.76   \n",
       "\n",
       "   Tot_Dsg_Unts_2021  Tot_Clms_2021  Tot_Benes_2021  \\\n",
       "0           459384.0           3708          1313.0   \n",
       "\n",
       "   Avg_Spnd_Per_Dsg_Unt_Wghtd_2021  Avg_Spnd_Per_Clm_2021  \\\n",
       "0                         0.223001              27.583808   \n",
       "\n",
       "   Avg_Spnd_Per_Bene_2021  Outlier_Flag_2021  Chg_Avg_Spnd_Per_Dsg_Unt_20_21  \\\n",
       "0               77.898522                  0                        0.024346   \n",
       "\n",
       "   CAGR_Avg_Spnd_Per_Dsg_Unt_17_21  \n",
       "0                         0.007885  \n",
       "\n",
       "[1 rows x 47 columns]"
      ]
     },
     "execution_count": 8,
     "metadata": {},
     "output_type": "execute_result"
    }
   ],
   "source": [
    "df_control = pd.read_csv('control_price_patent.csv', index_col=False)\n",
    "df_control.head(1)"
   ]
  },
  {
   "cell_type": "code",
   "execution_count": 9,
   "metadata": {},
   "outputs": [],
   "source": [
    "df_control.drop(columns=['Unnamed: 0'], inplace=True)"
   ]
  },
  {
   "cell_type": "code",
   "execution_count": 3,
   "metadata": {},
   "outputs": [],
   "source": [
    "df.drop(columns=['Unnamed: 0'], inplace=True)"
   ]
  },
  {
   "cell_type": "code",
   "execution_count": 4,
   "metadata": {},
   "outputs": [
    {
     "data": {
      "text/plain": [
       "Index(['Brnd_Name', 'Gnrc_Name', 'Tot_Mftr', 'Mftr_Name', 'Tot_Spndng_2017',\n",
       "       'Tot_Dsg_Unts_2017', 'Tot_Clms_2017', 'Tot_Benes_2017',\n",
       "       'Avg_Spnd_Per_Dsg_Unt_Wghtd_2017', 'Avg_Spnd_Per_Clm_2017',\n",
       "       'Avg_Spnd_Per_Bene_2017', 'Outlier_Flag_2017', 'Tot_Spndng_2018',\n",
       "       'Tot_Dsg_Unts_2018', 'Tot_Clms_2018', 'Tot_Benes_2018',\n",
       "       'Avg_Spnd_Per_Dsg_Unt_Wghtd_2018', 'Avg_Spnd_Per_Clm_2018',\n",
       "       'Avg_Spnd_Per_Bene_2018', 'Outlier_Flag_2018', 'Tot_Spndng_2019',\n",
       "       'Tot_Dsg_Unts_2019', 'Tot_Clms_2019', 'Tot_Benes_2019',\n",
       "       'Avg_Spnd_Per_Dsg_Unt_Wghtd_2019', 'Avg_Spnd_Per_Clm_2019',\n",
       "       'Avg_Spnd_Per_Bene_2019', 'Outlier_Flag_2019', 'Tot_Spndng_2020',\n",
       "       'Tot_Dsg_Unts_2020', 'Tot_Clms_2020', 'Tot_Benes_2020',\n",
       "       'Avg_Spnd_Per_Dsg_Unt_Wghtd_2020', 'Avg_Spnd_Per_Clm_2020',\n",
       "       'Avg_Spnd_Per_Bene_2020', 'Outlier_Flag_2020', 'Tot_Spndng_2021',\n",
       "       'Tot_Dsg_Unts_2021', 'Tot_Clms_2021', 'Tot_Benes_2021',\n",
       "       'Avg_Spnd_Per_Dsg_Unt_Wghtd_2021', 'Avg_Spnd_Per_Clm_2021',\n",
       "       'Avg_Spnd_Per_Bene_2021', 'Outlier_Flag_2021',\n",
       "       'Chg_Avg_Spnd_Per_Dsg_Unt_20_21', 'CAGR_Avg_Spnd_Per_Dsg_Unt_17_21'],\n",
       "      dtype='object')"
      ]
     },
     "execution_count": 4,
     "metadata": {},
     "output_type": "execute_result"
    }
   ],
   "source": [
    "df.columns"
   ]
  },
  {
   "cell_type": "code",
   "execution_count": 5,
   "metadata": {},
   "outputs": [],
   "source": [
    "# transform the data to make year as a column\n",
    "\n",
    "def transform_data(df):\n",
    "       df_2017 = df[['Brnd_Name', 'Gnrc_Name', 'Tot_Mftr', 'Mftr_Name', 'Tot_Spndng_2017',\n",
    "              'Tot_Dsg_Unts_2017', 'Tot_Clms_2017', 'Tot_Benes_2017',\n",
    "              'Avg_Spnd_Per_Dsg_Unt_Wghtd_2017', 'Avg_Spnd_Per_Clm_2017',\n",
    "              'Avg_Spnd_Per_Bene_2017', 'Outlier_Flag_2017']]\n",
    "       df_2018 = df[['Brnd_Name', 'Gnrc_Name', 'Tot_Mftr', 'Mftr_Name','Tot_Spndng_2018',\n",
    "              'Tot_Dsg_Unts_2018', 'Tot_Clms_2018', 'Tot_Benes_2018',\n",
    "              'Avg_Spnd_Per_Dsg_Unt_Wghtd_2018', 'Avg_Spnd_Per_Clm_2018',\n",
    "              'Avg_Spnd_Per_Bene_2018', 'Outlier_Flag_2018' ]]\n",
    "       df_2019 = df[['Brnd_Name', 'Gnrc_Name', 'Tot_Mftr', 'Mftr_Name', 'Tot_Spndng_2019',\n",
    "              'Tot_Dsg_Unts_2019', 'Tot_Clms_2019', 'Tot_Benes_2019',\n",
    "              'Avg_Spnd_Per_Dsg_Unt_Wghtd_2019', 'Avg_Spnd_Per_Clm_2019',\n",
    "              'Avg_Spnd_Per_Bene_2019', 'Outlier_Flag_2019']]\n",
    "       df_2020 =  df[['Brnd_Name', 'Gnrc_Name', 'Tot_Mftr', 'Mftr_Name','Tot_Spndng_2020',\n",
    "              'Tot_Dsg_Unts_2020', 'Tot_Clms_2020', 'Tot_Benes_2020',\n",
    "              'Avg_Spnd_Per_Dsg_Unt_Wghtd_2020', 'Avg_Spnd_Per_Clm_2020',\n",
    "              'Avg_Spnd_Per_Bene_2020', 'Outlier_Flag_2020']]\n",
    "       df_2021 = df[['Brnd_Name', 'Gnrc_Name', 'Tot_Mftr', 'Mftr_Name','Tot_Spndng_2021',\n",
    "              'Tot_Dsg_Unts_2021', 'Tot_Clms_2021', 'Tot_Benes_2021',\n",
    "              'Avg_Spnd_Per_Dsg_Unt_Wghtd_2021', 'Avg_Spnd_Per_Clm_2021',\n",
    "              'Avg_Spnd_Per_Bene_2021', 'Outlier_Flag_2021']]\n",
    "\n",
    "       df_2017['year'] = 2017 \n",
    "       df_2018['year'] = 2018    \n",
    "       df_2019['year'] = 2019    \n",
    "       df_2020['year'] = 2020   \n",
    "       df_2021['year'] = 2021    \n",
    "\n",
    "       arr = np.concatenate((df_2017.values, df_2018.values, df_2019.values, df_2020.values, df_2021.values))\n",
    "       year_df = pd.DataFrame(arr, columns=['Brnd_Name', 'Gnrc_Name', 'Tot_Mftr', 'Mftr_Name', 'Tot_Spndng',\n",
    "              'Tot_Dsg_Unts', 'Tot_Clms', 'Tot_Benes',\n",
    "              'Avg_Spnd_Per_Dsg_Unt_Wghtd', 'Avg_Spnd_Per_Clm',\n",
    "              'Avg_Spnd_Per_Bene', 'Outlier_Flag', 'year'] )\n",
    "       return year_df\n",
    "\n"
   ]
  },
  {
   "cell_type": "code",
   "execution_count": 6,
   "metadata": {},
   "outputs": [
    {
     "name": "stderr",
     "output_type": "stream",
     "text": [
      "/var/folders/_j/jlg7gh011jsfh6txv8lws4zw0000gn/T/ipykernel_40074/1487896534.py:25: SettingWithCopyWarning: \n",
      "A value is trying to be set on a copy of a slice from a DataFrame.\n",
      "Try using .loc[row_indexer,col_indexer] = value instead\n",
      "\n",
      "See the caveats in the documentation: https://pandas.pydata.org/pandas-docs/stable/user_guide/indexing.html#returning-a-view-versus-a-copy\n",
      "  df_2017['year'] = 2017\n",
      "/var/folders/_j/jlg7gh011jsfh6txv8lws4zw0000gn/T/ipykernel_40074/1487896534.py:26: SettingWithCopyWarning: \n",
      "A value is trying to be set on a copy of a slice from a DataFrame.\n",
      "Try using .loc[row_indexer,col_indexer] = value instead\n",
      "\n",
      "See the caveats in the documentation: https://pandas.pydata.org/pandas-docs/stable/user_guide/indexing.html#returning-a-view-versus-a-copy\n",
      "  df_2018['year'] = 2018\n",
      "/var/folders/_j/jlg7gh011jsfh6txv8lws4zw0000gn/T/ipykernel_40074/1487896534.py:27: SettingWithCopyWarning: \n",
      "A value is trying to be set on a copy of a slice from a DataFrame.\n",
      "Try using .loc[row_indexer,col_indexer] = value instead\n",
      "\n",
      "See the caveats in the documentation: https://pandas.pydata.org/pandas-docs/stable/user_guide/indexing.html#returning-a-view-versus-a-copy\n",
      "  df_2019['year'] = 2019\n",
      "/var/folders/_j/jlg7gh011jsfh6txv8lws4zw0000gn/T/ipykernel_40074/1487896534.py:28: SettingWithCopyWarning: \n",
      "A value is trying to be set on a copy of a slice from a DataFrame.\n",
      "Try using .loc[row_indexer,col_indexer] = value instead\n",
      "\n",
      "See the caveats in the documentation: https://pandas.pydata.org/pandas-docs/stable/user_guide/indexing.html#returning-a-view-versus-a-copy\n",
      "  df_2020['year'] = 2020\n",
      "/var/folders/_j/jlg7gh011jsfh6txv8lws4zw0000gn/T/ipykernel_40074/1487896534.py:29: SettingWithCopyWarning: \n",
      "A value is trying to be set on a copy of a slice from a DataFrame.\n",
      "Try using .loc[row_indexer,col_indexer] = value instead\n",
      "\n",
      "See the caveats in the documentation: https://pandas.pydata.org/pandas-docs/stable/user_guide/indexing.html#returning-a-view-versus-a-copy\n",
      "  df_2021['year'] = 2021\n",
      "/var/folders/_j/jlg7gh011jsfh6txv8lws4zw0000gn/T/ipykernel_40074/1487896534.py:25: SettingWithCopyWarning: \n",
      "A value is trying to be set on a copy of a slice from a DataFrame.\n",
      "Try using .loc[row_indexer,col_indexer] = value instead\n",
      "\n",
      "See the caveats in the documentation: https://pandas.pydata.org/pandas-docs/stable/user_guide/indexing.html#returning-a-view-versus-a-copy\n",
      "  df_2017['year'] = 2017\n",
      "/var/folders/_j/jlg7gh011jsfh6txv8lws4zw0000gn/T/ipykernel_40074/1487896534.py:26: SettingWithCopyWarning: \n",
      "A value is trying to be set on a copy of a slice from a DataFrame.\n",
      "Try using .loc[row_indexer,col_indexer] = value instead\n",
      "\n",
      "See the caveats in the documentation: https://pandas.pydata.org/pandas-docs/stable/user_guide/indexing.html#returning-a-view-versus-a-copy\n",
      "  df_2018['year'] = 2018\n",
      "/var/folders/_j/jlg7gh011jsfh6txv8lws4zw0000gn/T/ipykernel_40074/1487896534.py:27: SettingWithCopyWarning: \n",
      "A value is trying to be set on a copy of a slice from a DataFrame.\n",
      "Try using .loc[row_indexer,col_indexer] = value instead\n",
      "\n",
      "See the caveats in the documentation: https://pandas.pydata.org/pandas-docs/stable/user_guide/indexing.html#returning-a-view-versus-a-copy\n",
      "  df_2019['year'] = 2019\n",
      "/var/folders/_j/jlg7gh011jsfh6txv8lws4zw0000gn/T/ipykernel_40074/1487896534.py:28: SettingWithCopyWarning: \n",
      "A value is trying to be set on a copy of a slice from a DataFrame.\n",
      "Try using .loc[row_indexer,col_indexer] = value instead\n",
      "\n",
      "See the caveats in the documentation: https://pandas.pydata.org/pandas-docs/stable/user_guide/indexing.html#returning-a-view-versus-a-copy\n",
      "  df_2020['year'] = 2020\n",
      "/var/folders/_j/jlg7gh011jsfh6txv8lws4zw0000gn/T/ipykernel_40074/1487896534.py:29: SettingWithCopyWarning: \n",
      "A value is trying to be set on a copy of a slice from a DataFrame.\n",
      "Try using .loc[row_indexer,col_indexer] = value instead\n",
      "\n",
      "See the caveats in the documentation: https://pandas.pydata.org/pandas-docs/stable/user_guide/indexing.html#returning-a-view-versus-a-copy\n",
      "  df_2021['year'] = 2021\n"
     ]
    }
   ],
   "source": [
    "df_treatment = transform_data(df)\n",
    "df_all = transform_data(df_all)"
   ]
  },
  {
   "cell_type": "code",
   "execution_count": 10,
   "metadata": {},
   "outputs": [
    {
     "name": "stderr",
     "output_type": "stream",
     "text": [
      "/var/folders/_j/jlg7gh011jsfh6txv8lws4zw0000gn/T/ipykernel_40074/1487896534.py:25: SettingWithCopyWarning: \n",
      "A value is trying to be set on a copy of a slice from a DataFrame.\n",
      "Try using .loc[row_indexer,col_indexer] = value instead\n",
      "\n",
      "See the caveats in the documentation: https://pandas.pydata.org/pandas-docs/stable/user_guide/indexing.html#returning-a-view-versus-a-copy\n",
      "  df_2017['year'] = 2017\n",
      "/var/folders/_j/jlg7gh011jsfh6txv8lws4zw0000gn/T/ipykernel_40074/1487896534.py:26: SettingWithCopyWarning: \n",
      "A value is trying to be set on a copy of a slice from a DataFrame.\n",
      "Try using .loc[row_indexer,col_indexer] = value instead\n",
      "\n",
      "See the caveats in the documentation: https://pandas.pydata.org/pandas-docs/stable/user_guide/indexing.html#returning-a-view-versus-a-copy\n",
      "  df_2018['year'] = 2018\n",
      "/var/folders/_j/jlg7gh011jsfh6txv8lws4zw0000gn/T/ipykernel_40074/1487896534.py:27: SettingWithCopyWarning: \n",
      "A value is trying to be set on a copy of a slice from a DataFrame.\n",
      "Try using .loc[row_indexer,col_indexer] = value instead\n",
      "\n",
      "See the caveats in the documentation: https://pandas.pydata.org/pandas-docs/stable/user_guide/indexing.html#returning-a-view-versus-a-copy\n",
      "  df_2019['year'] = 2019\n",
      "/var/folders/_j/jlg7gh011jsfh6txv8lws4zw0000gn/T/ipykernel_40074/1487896534.py:28: SettingWithCopyWarning: \n",
      "A value is trying to be set on a copy of a slice from a DataFrame.\n",
      "Try using .loc[row_indexer,col_indexer] = value instead\n",
      "\n",
      "See the caveats in the documentation: https://pandas.pydata.org/pandas-docs/stable/user_guide/indexing.html#returning-a-view-versus-a-copy\n",
      "  df_2020['year'] = 2020\n",
      "/var/folders/_j/jlg7gh011jsfh6txv8lws4zw0000gn/T/ipykernel_40074/1487896534.py:29: SettingWithCopyWarning: \n",
      "A value is trying to be set on a copy of a slice from a DataFrame.\n",
      "Try using .loc[row_indexer,col_indexer] = value instead\n",
      "\n",
      "See the caveats in the documentation: https://pandas.pydata.org/pandas-docs/stable/user_guide/indexing.html#returning-a-view-versus-a-copy\n",
      "  df_2021['year'] = 2021\n"
     ]
    }
   ],
   "source": [
    "df_control = transform_data(df_control)"
   ]
  },
  {
   "cell_type": "code",
   "execution_count": 29,
   "metadata": {},
   "outputs": [],
   "source": [
    "df_treatment.to_csv('year_wise_treatment.csv', index=False)\n",
    "df_all.to_csv('year_wise_all.csv', index=False)\n"
   ]
  },
  {
   "cell_type": "code",
   "execution_count": 12,
   "metadata": {},
   "outputs": [],
   "source": [
    "df_control.to_csv('year_wise_control.csv', index=False)\n"
   ]
  },
  {
   "cell_type": "code",
   "execution_count": null,
   "metadata": {},
   "outputs": [],
   "source": []
  }
 ],
 "metadata": {
  "kernelspec": {
   "display_name": "Python 3.10.9 ('base')",
   "language": "python",
   "name": "python3"
  },
  "language_info": {
   "codemirror_mode": {
    "name": "ipython",
    "version": 3
   },
   "file_extension": ".py",
   "mimetype": "text/x-python",
   "name": "python",
   "nbconvert_exporter": "python",
   "pygments_lexer": "ipython3",
   "version": "3.10.9"
  },
  "orig_nbformat": 4,
  "vscode": {
   "interpreter": {
    "hash": "ebe44062881841b02cd050ef57f0aeb6389a9f1d11eda774fd172b536569d7ad"
   }
  }
 },
 "nbformat": 4,
 "nbformat_minor": 2
}
